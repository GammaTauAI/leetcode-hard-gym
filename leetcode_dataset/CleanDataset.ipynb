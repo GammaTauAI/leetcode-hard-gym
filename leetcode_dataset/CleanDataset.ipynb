{
 "cells": [
  {
   "attachments": {},
   "cell_type": "markdown",
   "metadata": {},
   "source": [
    "### Notebook for cleaning the Leetcode Question dataset\n",
    "- No void functions\n",
    "- No class implementations\n",
    "- No external definitions\n",
    "- No examples in description\n"
   ]
  },
  {
   "cell_type": "code",
   "execution_count": 37,
   "metadata": {},
   "outputs": [],
   "source": [
    "import pandas as pd\n",
    "import re\n",
    "from utils import get_code_snippets, title_slug, PySubmissionFormatter, RsSubmissionFormatter"
   ]
  },
  {
   "cell_type": "code",
   "execution_count": 38,
   "metadata": {},
   "outputs": [],
   "source": [
    "data = pd.read_csv('data/with_snippets/leetcode_hard_with_snippets.csv')"
   ]
  },
  {
   "attachments": {},
   "cell_type": "markdown",
   "metadata": {},
   "source": [
    "### Add the missing rows"
   ]
  },
  {
   "cell_type": "code",
   "execution_count": 39,
   "metadata": {},
   "outputs": [],
   "source": [
    "raw_data = pd.read_csv('data/raw/leetcode_dataset.csv')\n",
    "raw_data = raw_data[(raw_data['id'] == 446) | (raw_data['id'] == 1411)]\n",
    "\n",
    "for ind, row in raw_data.iterrows():\n",
    "    snippets = get_code_snippets(row['url'])\n",
    "    for snip in snippets:\n",
    "        lang = snip['lang']\n",
    "        code = snip['code']\n",
    "        raw_data.at[ind, f'{lang.lower()}_code_snippet'] = code\n",
    "\n",
    "raw_data['title_slug'] = raw_data['url'].apply(lambda x: x.split('/')[-1])"
   ]
  },
  {
   "cell_type": "code",
   "execution_count": 40,
   "metadata": {},
   "outputs": [],
   "source": [
    "with_missing = pd.concat([data, raw_data]).reset_index(drop=True)"
   ]
  },
  {
   "attachments": {},
   "cell_type": "markdown",
   "metadata": {},
   "source": [
    "### Remove rows that require external definitions"
   ]
  },
  {
   "cell_type": "code",
   "execution_count": 41,
   "metadata": {},
   "outputs": [],
   "source": [
    "no_defs_inds = [ind for ind, row in with_missing.iterrows() if row['c++_code_snippet'].split(' ')[0] == 'class']\n",
    "no_defs = with_missing.iloc[no_defs_inds]"
   ]
  },
  {
   "attachments": {},
   "cell_type": "markdown",
   "metadata": {},
   "source": [
    "### Remove rows that return none"
   ]
  },
  {
   "cell_type": "code",
   "execution_count": 42,
   "metadata": {},
   "outputs": [],
   "source": [
    "ret_inds = [ind for ind, row in no_defs.iterrows() if '\\\"\\\"\\\"' in row['python3_code_snippet'].split('\\n')[2]]\n",
    "ret = no_defs.drop(ret_inds)"
   ]
  },
  {
   "attachments": {},
   "cell_type": "markdown",
   "metadata": {},
   "source": [
    "### Remove rows that require class implementation"
   ]
  },
  {
   "cell_type": "code",
   "execution_count": 43,
   "metadata": {},
   "outputs": [],
   "source": [
    "function_name_regex = r\"(?<=def\\s)\\w+\"\n",
    "impl_inds = [ind for ind, row in no_defs.iterrows()\n",
    "             if re.search(function_name_regex, row['python3_code_snippet']).group(0) == '__init__']\n",
    "no_impl = ret.drop(impl_inds)"
   ]
  },
  {
   "attachments": {},
   "cell_type": "markdown",
   "metadata": {},
   "source": [
    "### Remove Examples from descriptions"
   ]
  },
  {
   "cell_type": "code",
   "execution_count": 44,
   "metadata": {},
   "outputs": [],
   "source": [
    "# delimiters = [\"Example 1:\",\n",
    "#               \"Example1:\"\n",
    "#               \"Example:\",\n",
    "#               \"Example :\"\n",
    "#               \"Examples:\",\n",
    "#               \"Valid Code Examples:\",\n",
    "#               \"Evaluation Example:\"]\n",
    "\n",
    "def remove_examples(desc):\n",
    "    lines = [l.strip() for l in desc.split('\\n')]\n",
    "    for i, line in enumerate(lines):\n",
    "        if 'Example' in line:\n",
    "            return '\\n'.join(lines[:i])\n",
    "    return desc\n",
    "\n",
    "def remove_empty(desc: str):\n",
    "    return '\\n'.join(line for line in desc.split('\\n') if line.strip())\n",
    "\n",
    "for ind, row in no_impl.iterrows():\n",
    "    res = remove_empty(remove_examples(row['description']))\n",
    "    no_impl.at[ind, 'description'] = res"
   ]
  },
  {
   "attachments": {},
   "cell_type": "markdown",
   "metadata": {},
   "source": [
    "### Save"
   ]
  },
  {
   "cell_type": "code",
   "execution_count": 48,
   "metadata": {},
   "outputs": [],
   "source": [
    "no_impl.to_csv('data/with_snippets/leetcode_hard_with_snippets_clean.csv')"
   ]
  }
 ],
 "metadata": {
  "kernelspec": {
   "display_name": "env",
   "language": "python",
   "name": "python3"
  },
  "language_info": {
   "codemirror_mode": {
    "name": "ipython",
    "version": 3
   },
   "file_extension": ".py",
   "mimetype": "text/x-python",
   "name": "python",
   "nbconvert_exporter": "python",
   "pygments_lexer": "ipython3",
   "version": "3.11.1"
  },
  "orig_nbformat": 4
 },
 "nbformat": 4,
 "nbformat_minor": 2
}
