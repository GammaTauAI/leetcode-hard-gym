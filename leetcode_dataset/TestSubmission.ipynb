{
 "cells": [
  {
   "cell_type": "code",
   "execution_count": 6,
   "metadata": {},
   "outputs": [],
   "source": [
    "import os\n",
    "import leetcode\n",
    "import leetcode.auth\n",
    "import dotenv\n",
    "import time\n",
    "dotenv.load_dotenv()\n",
    "\n",
    "# Initialize client\n",
    "configuration = leetcode.Configuration()\n",
    "\n",
    "# From Dev Tools/Application/Cookies/LEETCODE_SESSION\n",
    "leetcode_session: str = os.environ[\"LEETCODE_SESSION_ID\"]\n",
    "\n",
    "csrf_token: str = leetcode.auth.get_csrf_cookie(leetcode_session)\n",
    "\n",
    "configuration.api_key[\"x-csrftoken\"] = csrf_token\n",
    "configuration.api_key[\"csrftoken\"] = csrf_token\n",
    "configuration.api_key[\"LEETCODE_SESSION\"] = leetcode_session\n",
    "configuration.api_key[\"Referer\"] = \"https://leetcode.com\"\n",
    "configuration.debug = False\n",
    "\n",
    "api_instance = leetcode.DefaultApi(leetcode.ApiClient(configuration))\n",
    "\n",
    "code = \"\"\"\n",
    "class Solution:\n",
    "    def twoSum(self, nums, target):\n",
    "        return [0]\n",
    "\"\"\"\n",
    "\n",
    "# Real submission\n",
    "submission = leetcode.Submission(\n",
    "    judge_type=\"large\", typed_code=code, question_id=1, test_mode=False, lang=\"python\"\n",
    ")\n",
    "\n",
    "submission_id = api_instance.problems_problem_submit_post(\n",
    "    problem=\"two-sum\", body=submission\n",
    ")\n",
    "\n",
    "print(\"Submission has been queued. Result:\")\n",
    "print(submission_id)\n",
    "\n",
    "time.sleep(5)\n",
    "\n",
    "submission_result = api_instance.submissions_detail_id_check_get(\n",
    "    id=submission_id.submission_id\n",
    ")\n",
    "\n",
    "# submission_result['status_msg'] = ['Accepted', 'Runtime Error', 'Wrong Answer']\n",
    "print(submission_result)"
   ]
  },
  {
   "cell_type": "code",
   "execution_count": 17,
   "metadata": {},
   "outputs": [
    {
     "name": "stdout",
     "output_type": "stream",
     "text": [
      "Submission has been queued. Result:\n",
      "{'submission_id': 922706191}\n",
      "{'status_code': 11, 'lang': 'python', 'run_success': True, 'status_runtime': 'N/A', 'memory': 14260000, 'question_id': 1, 'elapsed_time': 54, 'compare_result': '000000000000000000000000000000000000000000000000000000000', 'code_output': '[0]', 'std_output': '', 'last_testcase': '[2,7,11,15]\\n9', 'expected_output': '[0,1]', 'task_finish_time': 1679875126966, 'total_correct': 0, 'total_testcases': 57, 'runtime_percentile': None, 'status_memory': 'N/A', 'memory_percentile': None, 'pretty_lang': 'Python', 'submission_id': '922706191', 'input_formatted': '[2,7,11,15], 9', 'input': '[2,7,11,15]\\n9', 'status_msg': 'Wrong Answer', 'state': 'SUCCESS'}\n"
     ]
    }
   ],
   "source": [
    "code = \"\"\"\n",
    "class Solution:\n",
    "    def twoSum(self, nums, target):\n",
    "        return [0]\n",
    "\"\"\"\n",
    "\n",
    "# Real submission\n",
    "submission = leetcode.Submission(\n",
    "    judge_type=\"large\", typed_code=code, question_id=1, test_mode=False, lang=\"python\"\n",
    ")\n",
    "\n",
    "submission_id = api_instance.problems_problem_submit_post(\n",
    "    problem=\"two-sum\", body=submission\n",
    ")\n",
    "\n",
    "print(\"Submission has been queued. Result:\")\n",
    "print(submission_id)\n",
    "\n",
    "time.sleep(5)\n",
    "\n",
    "submission_result = api_instance.submissions_detail_id_check_get(\n",
    "    id=submission_id.submission_id\n",
    ")\n",
    "\n",
    "# submission_result['status_msg'] = ['Accepted', 'Runtime Error', 'Wrong Answer']\n",
    "print(submission_result)\n",
    "\n",
    "#print(\"Got submission result:\")\n",
    "#print(leetcode.SubmissionResult(**submission_result))"
   ]
  }
 ],
 "metadata": {
  "kernelspec": {
   "display_name": "env",
   "language": "python",
   "name": "python3"
  },
  "language_info": {
   "codemirror_mode": {
    "name": "ipython",
    "version": 3
   },
   "file_extension": ".py",
   "mimetype": "text/x-python",
   "name": "python",
   "nbconvert_exporter": "python",
   "pygments_lexer": "ipython3",
   "version": "3.8.9"
  },
  "orig_nbformat": 4
 },
 "nbformat": 4,
 "nbformat_minor": 2
}
