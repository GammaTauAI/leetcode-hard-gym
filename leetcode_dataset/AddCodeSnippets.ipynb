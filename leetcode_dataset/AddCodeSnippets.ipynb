{
 "cells": [
  {
   "attachments": {},
   "cell_type": "markdown",
   "metadata": {},
   "source": [
    "### Notebook for adding code snippets to the leetcode question dataset"
   ]
  },
  {
   "cell_type": "code",
   "execution_count": 3,
   "metadata": {},
   "outputs": [],
   "source": [
    "import pandas as pd\n",
    "from bs4 import BeautifulSoup\n",
    "import json\n",
    "import requests\n",
    "from utils import *\n",
    "import time\n",
    "\n",
    "%load_ext autoreload\n",
    "%autoreload 2"
   ]
  },
  {
   "attachments": {},
   "cell_type": "markdown",
   "metadata": {},
   "source": [
    "### Import base dataset"
   ]
  },
  {
   "cell_type": "code",
   "execution_count": 2,
   "metadata": {},
   "outputs": [],
   "source": [
    "leetcode = pd.read_csv('data/raw/leetcode_dataset.csv')"
   ]
  },
  {
   "attachments": {},
   "cell_type": "markdown",
   "metadata": {},
   "source": [
    "### Get the hard, non-premium questions"
   ]
  },
  {
   "cell_type": "code",
   "execution_count": 3,
   "metadata": {},
   "outputs": [
    {
     "data": {
      "text/html": [
       "<div>\n",
       "<style scoped>\n",
       "    .dataframe tbody tr th:only-of-type {\n",
       "        vertical-align: middle;\n",
       "    }\n",
       "\n",
       "    .dataframe tbody tr th {\n",
       "        vertical-align: top;\n",
       "    }\n",
       "\n",
       "    .dataframe thead th {\n",
       "        text-align: right;\n",
       "    }\n",
       "</style>\n",
       "<table border=\"1\" class=\"dataframe\">\n",
       "  <thead>\n",
       "    <tr style=\"text-align: right;\">\n",
       "      <th></th>\n",
       "      <th>id</th>\n",
       "      <th>title</th>\n",
       "      <th>description</th>\n",
       "      <th>is_premium</th>\n",
       "      <th>difficulty</th>\n",
       "      <th>solution_link</th>\n",
       "      <th>acceptance_rate</th>\n",
       "      <th>frequency</th>\n",
       "      <th>url</th>\n",
       "      <th>discuss_count</th>\n",
       "      <th>accepted</th>\n",
       "      <th>submissions</th>\n",
       "      <th>companies</th>\n",
       "      <th>related_topics</th>\n",
       "      <th>likes</th>\n",
       "      <th>dislikes</th>\n",
       "      <th>rating</th>\n",
       "      <th>asked_by_faang</th>\n",
       "      <th>similar_questions</th>\n",
       "    </tr>\n",
       "  </thead>\n",
       "  <tbody>\n",
       "    <tr>\n",
       "      <th>0</th>\n",
       "      <td>4</td>\n",
       "      <td>Median of Two Sorted Arrays</td>\n",
       "      <td>Given two sorted arrays `nums1` and `nums2` of...</td>\n",
       "      <td>0</td>\n",
       "      <td>Hard</td>\n",
       "      <td>/articles/median-of-two-sorted-arrays</td>\n",
       "      <td>31.4</td>\n",
       "      <td>86.2</td>\n",
       "      <td>https://leetcode.com/problems/median-of-two-so...</td>\n",
       "      <td>999</td>\n",
       "      <td>904.7K</td>\n",
       "      <td>2.9M</td>\n",
       "      <td>Amazon,Goldman Sachs,Facebook,Microsoft,Apple,...</td>\n",
       "      <td>Array,Binary Search,Divide and Conquer</td>\n",
       "      <td>9665</td>\n",
       "      <td>1486</td>\n",
       "      <td>87</td>\n",
       "      <td>1</td>\n",
       "      <td>NaN</td>\n",
       "    </tr>\n",
       "  </tbody>\n",
       "</table>\n",
       "</div>"
      ],
      "text/plain": [
       "   id                        title  \\\n",
       "0   4  Median of Two Sorted Arrays   \n",
       "\n",
       "                                         description  is_premium difficulty  \\\n",
       "0  Given two sorted arrays `nums1` and `nums2` of...           0       Hard   \n",
       "\n",
       "                           solution_link  acceptance_rate  frequency  \\\n",
       "0  /articles/median-of-two-sorted-arrays             31.4       86.2   \n",
       "\n",
       "                                                 url  discuss_count accepted  \\\n",
       "0  https://leetcode.com/problems/median-of-two-so...            999   904.7K   \n",
       "\n",
       "  submissions                                          companies  \\\n",
       "0        2.9M  Amazon,Goldman Sachs,Facebook,Microsoft,Apple,...   \n",
       "\n",
       "                           related_topics  likes  dislikes  rating  \\\n",
       "0  Array,Binary Search,Divide and Conquer   9665      1486      87   \n",
       "\n",
       "   asked_by_faang similar_questions  \n",
       "0               1               NaN  "
      ]
     },
     "execution_count": 3,
     "metadata": {},
     "output_type": "execute_result"
    }
   ],
   "source": [
    "leetcode = leetcode[leetcode['is_premium'] == 0]\n",
    "hard = leetcode[leetcode['difficulty'] == 'Hard'].reset_index(drop=True)\n",
    "hard.head(1)"
   ]
  },
  {
   "attachments": {},
   "cell_type": "markdown",
   "metadata": {},
   "source": [
    "### F"
   ]
  },
  {
   "attachments": {},
   "cell_type": "markdown",
   "metadata": {},
   "source": [
    "### Get the code snippet for each question"
   ]
  },
  {
   "cell_type": "code",
   "execution_count": null,
   "metadata": {},
   "outputs": [],
   "source": [
    "for ind, row in hard.iterrows():\n",
    "    snippets = get_code_snippets(row['url'])\n",
    "    if snippets is None:\n",
    "        continue\n",
    "    for snip in snippets:\n",
    "        lang = snip['lang']\n",
    "        code = snip['code']\n",
    "        hard.at[ind, f'{lang.lower()}_code_snippet'] = code\n",
    "    time.sleep(5)"
   ]
  },
  {
   "cell_type": "code",
   "execution_count": 6,
   "metadata": {},
   "outputs": [],
   "source": [
    "for ind, row in hard.iterrows():\n",
    "    hard.at[ind, 'title_slug'] = title_slug(row.title)\n",
    "\n",
    "hard = hard[hard['python_code_snippet'].notnull()]"
   ]
  },
  {
   "attachments": {},
   "cell_type": "markdown",
   "metadata": {},
   "source": [
    "### Export"
   ]
  },
  {
   "cell_type": "code",
   "execution_count": 8,
   "metadata": {},
   "outputs": [],
   "source": [
    "hard.to_csv('data/leetcode_hard_with_snippets.csv', index = False)"
   ]
  }
 ],
 "metadata": {
  "kernelspec": {
   "display_name": "env",
   "language": "python",
   "name": "python3"
  },
  "language_info": {
   "codemirror_mode": {
    "name": "ipython",
    "version": 3
   },
   "file_extension": ".py",
   "mimetype": "text/x-python",
   "name": "python",
   "nbconvert_exporter": "python",
   "pygments_lexer": "ipython3",
   "version": "3.11.1"
  },
  "orig_nbformat": 4
 },
 "nbformat": 4,
 "nbformat_minor": 2
}
