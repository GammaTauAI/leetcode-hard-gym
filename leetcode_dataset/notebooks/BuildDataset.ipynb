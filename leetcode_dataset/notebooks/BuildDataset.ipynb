{
 "cells": [
  {
   "cell_type": "code",
   "execution_count": 39,
   "metadata": {},
   "outputs": [
    {
     "data": {
      "text/plain": [
       "True"
      ]
     },
     "execution_count": 39,
     "metadata": {},
     "output_type": "execute_result"
    }
   ],
   "source": [
    "import os\n",
    "import dotenv\n",
    "import pandas as pd\n",
    "import ast\n",
    "from bs4 import BeautifulSoup\n",
    "import time\n",
    "\n",
    "dotenv.load_dotenv()"
   ]
  },
  {
   "cell_type": "code",
   "execution_count": 25,
   "metadata": {},
   "outputs": [],
   "source": [
    "import leetcode\n",
    "import leetcode.auth\n",
    "configuration = leetcode.Configuration()\n",
    "\n",
    "# From Dev Tools/Application/Cookies/LEETCODE_SESSION\n",
    "leetcode_session = os.environ[\"LEETCODE_SESSION\"]\n",
    "csrf_token = leetcode.auth.get_csrf_cookie(leetcode_session)\n",
    "\n",
    "configuration.api_key[\"x-csrftoken\"] = csrf_token\n",
    "configuration.api_key[\"csrftoken\"] = csrf_token\n",
    "configuration.api_key[\"LEETCODE_SESSION\"] = leetcode_session\n",
    "configuration.api_key[\"Referer\"] = \"https://leetcode.com\"\n",
    "configuration.debug = False\n",
    "\n",
    "api_instance = leetcode.DefaultApi(leetcode.ApiClient(configuration))"
   ]
  },
  {
   "cell_type": "code",
   "execution_count": 26,
   "metadata": {},
   "outputs": [],
   "source": [
    "def get_info(question_slug: str, api_instance):\n",
    "    graphql_request = leetcode.GraphqlQuery(\n",
    "    query=\"\"\"\n",
    "                query getQuestionDetail($titleSlug: String!) {\n",
    "                question(titleSlug: $titleSlug) {\n",
    "                    codeSnippets {\n",
    "                        lang\n",
    "                        langSlug\n",
    "                        code\n",
    "                        __typename\n",
    "                    }\n",
    "                    content\n",
    "                    title \n",
    "                }\n",
    "                }\n",
    "            \"\"\",\n",
    "            variables={\"titleSlug\": question_slug},\n",
    "            operation_name=\"getQuestionDetail\",\n",
    ")\n",
    "    response = ast.literal_eval(str(api_instance.graphql_post(body=graphql_request)))\n",
    "    data = response['data']['question']\n",
    "    return data "
   ]
  },
  {
   "cell_type": "code",
   "execution_count": 27,
   "metadata": {},
   "outputs": [],
   "source": [
    "question_infos = api_instance.api_problems_topic_get(topic=\"algorithms\")"
   ]
  },
  {
   "cell_type": "code",
   "execution_count": 40,
   "metadata": {},
   "outputs": [],
   "source": [
    "hard = [q for q in question_infos.stat_status_pairs\n",
    "        if q.difficulty.level == 3\n",
    "        and q.paid_only == False]\n",
    "\n",
    "uncontaminated = hard[:41]"
   ]
  },
  {
   "cell_type": "code",
   "execution_count": 41,
   "metadata": {},
   "outputs": [],
   "source": [
    "df = pd.DataFrame()\n",
    "for ind, question in enumerate(uncontaminated):\n",
    "    question_slug = question.stat.question__title_slug\n",
    "    info = get_info(question_slug, api_instance)\n",
    "    snippets = info['code_snippets']\n",
    "    content = BeautifulSoup(info['content']).get_text()\n",
    "\n",
    "    df.at[ind, \"question_slug\"] = question.stat.question__title_slug\n",
    "    df.at[ind, \"question_title\"] = question.stat.question__title\n",
    "    df.at[ind, \"frontend_question_id\"] = int(question.stat.frontend_question_id)\n",
    "    df.at[ind, \"question_id\"] = int(question.stat.question_id)\n",
    "    df.at[ind, \"description\"] = content\n",
    "\n",
    "    for snippet in snippets:\n",
    "        df.at[ind, snippet['lang_slug'] + '_snippet'] = snippet['code']\n",
    "    \n",
    "    time.sleep(1)"
   ]
  },
  {
   "cell_type": "code",
   "execution_count": 43,
   "metadata": {},
   "outputs": [],
   "source": [
    "df.to_csv('data/with_snippets/leetcode_hard_with_snippets_uncontaminated.csv', index=False)"
   ]
  }
 ],
 "metadata": {
  "kernelspec": {
   "display_name": "env",
   "language": "python",
   "name": "python3"
  },
  "language_info": {
   "codemirror_mode": {
    "name": "ipython",
    "version": 3
   },
   "file_extension": ".py",
   "mimetype": "text/x-python",
   "name": "python",
   "nbconvert_exporter": "python",
   "pygments_lexer": "ipython3",
   "version": "3.11.1"
  },
  "orig_nbformat": 4
 },
 "nbformat": 4,
 "nbformat_minor": 2
}
