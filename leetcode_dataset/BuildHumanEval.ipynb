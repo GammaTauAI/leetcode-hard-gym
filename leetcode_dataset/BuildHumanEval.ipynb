{
 "cells": [
  {
   "cell_type": "code",
   "execution_count": 1,
   "metadata": {},
   "outputs": [],
   "source": [
    "from utils import PySubmissionFormatter, RsSubmissionFormatter\n",
    "import pandas as pd\n",
    "import re"
   ]
  },
  {
   "cell_type": "code",
   "execution_count": 2,
   "metadata": {},
   "outputs": [],
   "source": [
    "data = pd.read_csv('data/leetcode_hard_with_snippets_clean.csv')"
   ]
  },
  {
   "attachments": {},
   "cell_type": "markdown",
   "metadata": {},
   "source": [
    "### Python Dataset"
   ]
  },
  {
   "cell_type": "code",
   "execution_count": 11,
   "metadata": {},
   "outputs": [],
   "source": [
    "function_name_regex = r\"(?<=def\\s)\\w+\"\n",
    "lines = []\n",
    "\n",
    "for ind, row in data.iterrows():\n",
    "    task_id = row['title_slug']\n",
    "    comment = '\\n'.join([f'# {s}' for s in row['description'].strip().split('\\n')])\n",
    "    prompt = PySubmissionFormatter().to_humaneval(comment + '\\n' + row['python3_code_snippet']).strip('\\n') + '\\n'\n",
    "    entry_point = re.search(function_name_regex, row['python3_code_snippet']).group(0)\n",
    "    \n",
    "    line = {\n",
    "        'task_id': entry_point,\n",
    "        'prompt': prompt,\n",
    "        'entry_point': task_id,\n",
    "        'cannonical_solution': '',\n",
    "        'test': ''\n",
    "    }\n",
    "    \n",
    "    lines.append(line)\n"
   ]
  },
  {
   "cell_type": "code",
   "execution_count": 12,
   "metadata": {},
   "outputs": [],
   "source": [
    "import json\n",
    "import os\n",
    "\n",
    "def save_dict_to_jsonl(dict_data, file_path):\n",
    "    with open(file_path, 'a') as file:\n",
    "        json_line = json.dumps(dict_data)\n",
    "        file.write(json_line + os.linesep)\n",
    "\n",
    "def save_list_of_dicts_to_jsonl(list_of_dicts, file_path):\n",
    "    for dict_data in list_of_dicts:\n",
    "        save_dict_to_jsonl(dict_data, file_path)"
   ]
  },
  {
   "cell_type": "code",
   "execution_count": 13,
   "metadata": {},
   "outputs": [],
   "source": [
    "save_list_of_dicts_to_jsonl(lines, 'data/leetcode-hard-py.jsonl')"
   ]
  },
  {
   "cell_type": "code",
   "execution_count": 16,
   "metadata": {},
   "outputs": [],
   "source": [
    "save_dict_to_jsonl(lines, )"
   ]
  },
  {
   "cell_type": "code",
   "execution_count": null,
   "metadata": {},
   "outputs": [],
   "source": [
    "# task_id\n",
    "# prompt\n",
    "# entry_point\n",
    "# canonical_solution\n",
    "#test"
   ]
  },
  {
   "cell_type": "code",
   "execution_count": 36,
   "metadata": {},
   "outputs": [],
   "source": [
    "import re\n",
    "\n",
    "class PySubmissionFormatter(SubmissionFormatter):\n",
    "    def to_leetcode(self, humaneval_snippet: str):\n",
    "        comment_pattern = re.compile(r\"((?:#.*\\n)*)\")\n",
    "        comment_match = comment_pattern.match(humaneval_snippet)\n",
    "        comments = comment_match.group(1) if comment_match else \"\"\n",
    "        \n",
    "        # Remove comments from the snippet\n",
    "        humaneval_snippet = comment_pattern.sub(\"\", humaneval_snippet).strip()\n",
    "        humaneval_snippet_indented = humaneval_snippet.replace('\\n', '\\n    ')\n",
    "        \n",
    "        return f\"\"\"\\\n",
    "{comments}class Solution:\n",
    "    {humaneval_snippet_indented}\n",
    "\"\"\"\n",
    "\n",
    "    def to_humaneval(self, leetcode_snippet: str):\n",
    "        comment_pattern = re.compile(r\"((?:#.*\\n)*)\")\n",
    "        comment_match = comment_pattern.match(leetcode_snippet)\n",
    "        comments = comment_match.group(1) if comment_match else \"\"\n",
    "        \n",
    "        # Remove comments from the snippet\n",
    "        leetcode_snippet = comment_pattern.sub(\"\", leetcode_snippet).strip()\n",
    "        \n",
    "        pattern = re.compile(r\"class Solution:\\s+([\\s\\S]+)\")\n",
    "        match = pattern.search(leetcode_snippet)\n",
    "        if match:\n",
    "            return f\"{comments}{match.group(1).replace('    ', '', 1)}\"\n",
    "        return leetcode_snippet.strip()\n"
   ]
  },
  {
   "cell_type": "code",
   "execution_count": 37,
   "metadata": {},
   "outputs": [
    {
     "name": "stdout",
     "output_type": "stream",
     "text": [
      "# This is a comment\n",
      "# Another comment\n",
      "class Solution:\n",
      "    def function_name():\n",
      "        pass\n",
      "\n"
     ]
    }
   ],
   "source": [
    "humaneval_snippet_1 = \"# This is a comment\\n# Another comment\\ndef function_name():\\n    pass\"\n",
    "\n",
    "formatted_leetcode_1 = PySubmissionFormatter().to_leetcode(humaneval_snippet_1)\n",
    "print(formatted_leetcode_1)\n",
    "\n"
   ]
  },
  {
   "cell_type": "markdown",
   "metadata": {},
   "source": []
  }
 ],
 "metadata": {
  "kernelspec": {
   "display_name": "env",
   "language": "python",
   "name": "python3"
  },
  "language_info": {
   "codemirror_mode": {
    "name": "ipython",
    "version": 3
   },
   "file_extension": ".py",
   "mimetype": "text/x-python",
   "name": "python",
   "nbconvert_exporter": "python",
   "pygments_lexer": "ipython3",
   "version": "3.11.1"
  },
  "orig_nbformat": 4
 },
 "nbformat": 4,
 "nbformat_minor": 2
}
