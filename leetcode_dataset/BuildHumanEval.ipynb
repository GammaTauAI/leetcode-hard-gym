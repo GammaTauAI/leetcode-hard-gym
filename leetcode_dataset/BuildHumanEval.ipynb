{
 "cells": [
  {
   "attachments": {},
   "cell_type": "markdown",
   "metadata": {},
   "source": [
    "### Notebook for transforming the dataset to mimic HumanEval"
   ]
  },
  {
   "cell_type": "code",
   "execution_count": 1,
   "metadata": {},
   "outputs": [],
   "source": [
    "import pandas as pd\n",
    "import re\n",
    "import json\n",
    "\n",
    "import os, sys\n",
    "sys.path.append(os.path.abspath(os.path.join('..')))\n",
    "from leetcode_env.utils import PySubmissionFormatter, RsSubmissionFormatter"
   ]
  },
  {
   "cell_type": "code",
   "execution_count": 2,
   "metadata": {},
   "outputs": [],
   "source": [
    "def to_jsonl(dict_data, file_path):\n",
    "    with open(file_path, 'a') as file:\n",
    "        json_line = json.dumps(dict_data)\n",
    "        file.write(json_line + os.linesep)"
   ]
  },
  {
   "cell_type": "code",
   "execution_count": 3,
   "metadata": {},
   "outputs": [],
   "source": [
    "data = pd.read_csv('data/leetcode_hard_with_snippets_clean.csv')\n",
    "sample = data.sample(100, random_state=1337)"
   ]
  },
  {
   "attachments": {},
   "cell_type": "markdown",
   "metadata": {},
   "source": [
    "### Python Dataset"
   ]
  },
  {
   "cell_type": "code",
   "execution_count": 4,
   "metadata": {},
   "outputs": [],
   "source": [
    "function_name_regex = r\"(?<=def\\s)\\w+\"\n",
    "lines = []\n",
    "\n",
    "for ind, row in sample.iterrows():\n",
    "    task_id = row['title_slug']\n",
    "    comment = '\\n'.join([f'# {s}' for s in row['description'].strip().split('\\n')])\n",
    "    prompt = PySubmissionFormatter.to_humaneval(comment + '\\n' + row['python3_code_snippet']).strip('\\n') + '\\n'\n",
    "    entry_point = re.search(function_name_regex, row['python3_code_snippet']).group(0)\n",
    "    \n",
    "    line = {\n",
    "        'task_id': task_id,\n",
    "        'prompt': prompt,\n",
    "        'entry_point': entry_point,\n",
    "        'cannonical_solution': '',\n",
    "        'test': ''\n",
    "    }\n",
    "    \n",
    "    lines.append(line)\n"
   ]
  },
  {
   "cell_type": "code",
   "execution_count": 5,
   "metadata": {},
   "outputs": [],
   "source": [
    "for dict_data in lines:\n",
    "        to_jsonl(dict_data, 'data/humaneval/leetcode-hard-py-100-sample.jsonl')"
   ]
  },
  {
   "attachments": {},
   "cell_type": "markdown",
   "metadata": {},
   "source": [
    "### Rust Dataset"
   ]
  },
  {
   "cell_type": "code",
   "execution_count": 6,
   "metadata": {},
   "outputs": [],
   "source": [
    "function_name_regex = r\"(?<=fn\\s)\\w+\"\n",
    "lines = []\n",
    "\n",
    "for ind, row in sample.iterrows():\n",
    "    task_id = row['title_slug']\n",
    "    comment = \"\\n\".join([f\"// {s}\" for s in row['description'].strip().split(\"\\n\")])\n",
    "    unformatted = comment + '\\n' + row['rust_code_snippet']\n",
    "    prompt = RsSubmissionFormatter.to_humaneval(comment + '\\n' + row['rust_code_snippet']).strip('\\n') + '\\n'\n",
    "    entry_point = re.search(function_name_regex, row['rust_code_snippet']).group(0)\n",
    "    \n",
    "    line = {\n",
    "        'task_id': task_id,\n",
    "        'prompt': prompt,\n",
    "        'entry_point': task_id,\n",
    "        'cannonical_solution': '',\n",
    "        'test': ''\n",
    "    }\n",
    "    \n",
    "    lines.append(line)"
   ]
  },
  {
   "cell_type": "code",
   "execution_count": 7,
   "metadata": {},
   "outputs": [],
   "source": [
    "for dict_data in lines:\n",
    "        to_jsonl(dict_data, 'data/humaneval/leetcode-hard-rs-100-sample.jsonl')"
   ]
  }
 ],
 "metadata": {
  "kernelspec": {
   "display_name": "env",
   "language": "python",
   "name": "python3"
  },
  "language_info": {
   "codemirror_mode": {
    "name": "ipython",
    "version": 3
   },
   "file_extension": ".py",
   "mimetype": "text/x-python",
   "name": "python",
   "nbconvert_exporter": "python",
   "pygments_lexer": "ipython3",
   "version": "3.11.1"
  },
  "orig_nbformat": 4
 },
 "nbformat": 4,
 "nbformat_minor": 2
}
