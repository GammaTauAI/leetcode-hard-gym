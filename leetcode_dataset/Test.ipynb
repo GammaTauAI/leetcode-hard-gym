{
 "cells": [
  {
   "cell_type": "code",
   "execution_count": 1,
   "metadata": {},
   "outputs": [],
   "source": [
    "import ast\n",
    "import astunparse"
   ]
  },
  {
   "cell_type": "code",
   "execution_count": 26,
   "metadata": {},
   "outputs": [
    {
     "ename": "ModuleNotFoundError",
     "evalue": "No module named 'leetcode_env'",
     "output_type": "error",
     "traceback": [
      "\u001b[0;31m---------------------------------------------------------------------------\u001b[0m",
      "\u001b[0;31mModuleNotFoundError\u001b[0m                       Traceback (most recent call last)",
      "Cell \u001b[0;32mIn[26], line 1\u001b[0m\n\u001b[0;32m----> 1\u001b[0m \u001b[39mfrom\u001b[39;00m \u001b[39mleetcode_env\u001b[39;00m\u001b[39m.\u001b[39;00m\u001b[39menvironment\u001b[39;00m \u001b[39mimport\u001b[39;00m LeetCodeEnv\n\u001b[1;32m      2\u001b[0m \u001b[39mfrom\u001b[39;00m \u001b[39mleetcode_env\u001b[39;00m\u001b[39m.\u001b[39;00m\u001b[39mleetcode_types\u001b[39;00m \u001b[39mimport\u001b[39;00m LeetCodeSubmission\n",
      "\u001b[0;31mModuleNotFoundError\u001b[0m: No module named 'leetcode_env'"
     ]
    }
   ],
   "source": [
    "from leetcode_env.environment import LeetCodeEnv\n",
    "from leetcode_env.leetcode_types import LeetCodeSubmission"
   ]
  },
  {
   "cell_type": "code",
   "execution_count": 24,
   "metadata": {},
   "outputs": [],
   "source": [
    "x = '''\n",
    "def x(a, b) -> None:\n",
    "    \\\"\\\"\\\"\n",
    "    Many\n",
    "    Many\n",
    "    Lines\n",
    "    \\\"\\\"\\\"\n",
    "    return None\n",
    "print(x(1, 2))\n",
    "'''"
   ]
  },
  {
   "cell_type": "code",
   "execution_count": 25,
   "metadata": {},
   "outputs": [
    {
     "name": "stdout",
     "output_type": "stream",
     "text": [
      "\n",
      "\n",
      "def x(a, b) -> None:\n",
      "    '\\n    Many\\n    Many\\n    Lines\\n    '\n",
      "    return None\n",
      "print(x(1, 2))\n",
      "\n"
     ]
    }
   ],
   "source": [
    "print(astunparse.unparse(ast.parse(x)))"
   ]
  }
 ],
 "metadata": {
  "kernelspec": {
   "display_name": "env",
   "language": "python",
   "name": "python3"
  },
  "language_info": {
   "codemirror_mode": {
    "name": "ipython",
    "version": 3
   },
   "file_extension": ".py",
   "mimetype": "text/x-python",
   "name": "python",
   "nbconvert_exporter": "python",
   "pygments_lexer": "ipython3",
   "version": "3.11.1"
  },
  "orig_nbformat": 4
 },
 "nbformat": 4,
 "nbformat_minor": 2
}
